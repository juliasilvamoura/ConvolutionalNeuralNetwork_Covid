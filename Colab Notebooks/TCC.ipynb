{
  "cells": [
    {
      "cell_type": "markdown",
      "metadata": {
        "id": "2htip3OcADyz"
      },
      "source": [
        "# 1 - Conectar com o Drive"
      ]
    },
    {
      "cell_type": "code",
      "execution_count": 1,
      "metadata": {
        "colab": {
          "base_uri": "https://localhost:8080/"
        },
        "id": "uvmAiawG-e53",
        "outputId": "13737948-e7ea-48e3-f876-1da219a5f9e2"
      },
      "outputs": [
        {
          "output_type": "stream",
          "name": "stdout",
          "text": [
            "Mounted at /content/drive\n"
          ]
        }
      ],
      "source": [
        "# Conectar com o drive\n",
        "\n",
        "from google.colab import drive\n",
        "\n",
        "drive.mount('/content/drive', force_remount=True)"
      ]
    },
    {
      "cell_type": "markdown",
      "metadata": {
        "id": "HyB3-jsEA9hr"
      },
      "source": [
        "# 2 - Importando bibliotecas necessárias"
      ]
    },
    {
      "cell_type": "code",
      "execution_count": 2,
      "metadata": {
        "id": "XbgzD38cBAoZ"
      },
      "outputs": [],
      "source": [
        "# Bibliotecas utilizadas para o desenvolvimento\n",
        "\n",
        "import tensorflow as tf\n",
        "from tensorflow import keras\n",
        "from tensorflow.keras import layers, models\n",
        "from keras.models import Sequential\n",
        "from keras.layers import Conv2D, MaxPool2D, Dense, Flatten, BatchNormalization, Dropout, AveragePooling2D, MaxPooling2D\n",
        "from keras.preprocessing.image import ImageDataGenerator\n",
        "import numpy as np\n",
        "import matplotlib.pyplot as plt\n",
        "from sklearn.metrics import confusion_matrix, ConfusionMatrixDisplay"
      ]
    },
    {
      "cell_type": "markdown",
      "metadata": {
        "id": "L7HqgdQm_2hL"
      },
      "source": [
        "# 3 - Importar Dataset COVIDGR 1.0"
      ]
    },
    {
      "cell_type": "code",
      "execution_count": 3,
      "metadata": {
        "id": "DNxMfFsEAMWy"
      },
      "outputs": [],
      "source": [
        "# Path dataset e saída\n",
        "\n",
        "input_database = '/content/drive/My Drive/cnn/dataset'\n",
        "\n",
        "# Escolha o modelo de CNN\n",
        "# 1 - LeNet\n",
        "# 2 - AlexNet\n",
        "# 3 - VGG\n",
        "\n",
        "modelo = 1"
      ]
    },
    {
      "cell_type": "markdown",
      "metadata": {
        "id": "ALnUB4z7S4E4"
      },
      "source": [
        "# 4 - Criar e Treinar a rede convolucional\n",
        "\n",
        "###Conv2D\n",
        "\n",
        "\n",
        "*   **filters** - obrigatório, filtros de determina o número de filtros de saída das camadas convolucionais que aprenderão.\n",
        "\n",
        "*   **kernel_size** - dimensão do Kernel (matriz de convolução) (tuplas de valor inteiro ímpar).\n",
        "\n",
        "*   **padding** - \"valid\" (não adiciona zeros e reduz espaços sem valor) ou \"same\" (mantem o tamanho original).\n",
        "\n",
        "*   **strides** - tamanho das passadas.\n",
        "\n",
        "*   **activation** - parâmetro de conveniência que permite fornecer uma string.\n",
        "\n",
        "*   **input_shape** - imagem de entrada\n",
        "\n",
        "\n",
        "###MaxPooling2D\n",
        "\n",
        "\n",
        "*   **pool_size** - Tamanho do filtro, primeiro parâmetro\n",
        "\n",
        "*   **strides** - tamanho da passada, segundo parâmetro\n",
        "\n",
        "\n",
        "###Dense\n",
        "\n",
        "\n",
        "*   **units** - inteiro, dimensão do espaço de saída\n",
        "\n",
        "*   **activation** - \"relu\" o máximo de elemento de 0 e o tensor de entrada\n",
        "\n",
        "*   **activation** - \"softmax\" um vetor de valores de entrada e realiza a previsão da probabilistica"
      ]
    },
    {
      "cell_type": "code",
      "execution_count": 4,
      "metadata": {
        "id": "hHIHp26ge11p"
      },
      "outputs": [],
      "source": [
        "def model_CNN(modelo):\n",
        "  if(modelo == 1):\n",
        "\n",
        "    # Rede convolucional LeNet\n",
        "\n",
        "    model = keras.models.Sequential([\n",
        "        # Camada de entrada/Convolucional\n",
        "        keras.layers.Conv2D(filters=6, kernel_size=(5,5), strides=(1,1), activation='tanh', padding=\"same\", input_shape=(28,28,1)),\n",
        "        #Camada Polling - média\n",
        "        keras.layers.AveragePooling2D(pool_size=(2, 2), strides=(2, 2), padding='valid'),\n",
        "\n",
        "        keras.layers.Conv2D(filters=16, kernel_size=(5,5), strides=(1,1), activation='tanh', padding=\"valid\"),\n",
        "        keras.layers.AveragePooling2D(pool_size=(2, 2), strides=(2, 2), padding='valid'),\n",
        "\n",
        "        keras.layers.Conv2D(filters=120, kernel_size=(5,5), strides=(1,1), activation='tanh', padding=\"valid\"),\n",
        "        # Camada Densamente Conectada\n",
        "        keras.layers.Flatten(),\n",
        "        keras.layers.Dense(120, activation='tanh'),\n",
        "        keras.layers.Dense(84, activation='tanh'),\n",
        "        # Função Softmax\n",
        "        keras.layers.Dense(2, activation='softmax') \n",
        "    ])\n",
        "  elif(modelo == 2):\n",
        "\n",
        "    # Rede Convolucional AlexNet\n",
        "\n",
        "    model = keras.models.Sequential([\n",
        "        \n",
        "        # Camada de entrada/Convolucional\n",
        "        keras.layers.Conv2D(filters=96, kernel_size=(11,11), strides=(4,4), activation='relu', padding=\"same\", input_shape=(227,227,1)),\n",
        "        # Normalização\n",
        "        keras.layers.BatchNormalization(),\n",
        "        # Camanda Polling - valor máximo \n",
        "        keras.layers.MaxPool2D(pool_size=(3,3), strides=(2,2)),\n",
        "\n",
        "        keras.layers.Conv2D(filters=256, kernel_size=(5,5), strides=(1,1), activation='relu', padding=\"same\"),\n",
        "        keras.layers.BatchNormalization(),\n",
        "        keras.layers.MaxPool2D(pool_size=(3,3), strides=(2,2)),\n",
        "\n",
        "        keras.layers.Conv2D(filters=384, kernel_size=(3,3), strides=(1,1), activation='relu', padding=\"same\"),\n",
        "        keras.layers.BatchNormalization(),\n",
        "\n",
        "        keras.layers.Conv2D(filters=384, kernel_size=(3,3), strides=(1,1), activation='relu', padding=\"same\"),\n",
        "        keras.layers.BatchNormalization(),\n",
        "\n",
        "        keras.layers.Conv2D(filters=256, kernel_size=(3,3), strides=(1,1), activation='relu', padding=\"same\"),\n",
        "        keras.layers.BatchNormalization(),\n",
        "        keras.layers.MaxPool2D(pool_size=(3,3), strides=(2,2)),\n",
        "\n",
        "        # Camada Densamente Conectada\n",
        "        keras.layers.Flatten(),\n",
        "        keras.layers.Dense(4096, activation='relu'),\n",
        "        keras.layers.Dropout(0.5),\n",
        "        keras.layers.Dense(4096, activation='relu'),\n",
        "        keras.layers.Dropout(0.5),\n",
        "        #Função Softmax\n",
        "        keras.layers.Dense(2, activation='softmax') \n",
        "    ])\n",
        "  elif(modelo ==3):\n",
        "\n",
        "    # Rede Convolucional VGG16\n",
        "\n",
        "    model = keras.models.Sequential([\n",
        "        # Bloco 1\n",
        "\n",
        "        # Camandas Convolucionais\n",
        "        keras.layers.Conv2D(filters=64,kernel_size=(3,3),padding=\"same\", activation=\"relu\",input_shape=(224,224,1)),\n",
        "        keras.layers.Conv2D(filters=64,kernel_size=(3,3),padding=\"same\", activation=\"relu\"),\n",
        "        # Camanda Polling - valor máximo\n",
        "        keras.layers.MaxPool2D(pool_size=(2,2),strides=(2,2)),\n",
        "\n",
        "        # Bloco 2\n",
        "\n",
        "        # Camandas Convolucionais\n",
        "        keras.layers.Conv2D(filters=128, kernel_size=(3,3), padding=\"same\", activation=\"relu\"),\n",
        "        keras.layers.Conv2D(filters=128, kernel_size=(3,3), padding=\"same\", activation=\"relu\"),\n",
        "        # Camanda Polling - valor máximo\n",
        "        keras.layers.MaxPool2D(pool_size=(2,2),strides=(2,2)),\n",
        "\n",
        "        # Bloco 3\n",
        "\n",
        "        # Camandas Convolucionais\n",
        "        keras.layers.Conv2D(filters=256, kernel_size=(3,3), padding=\"same\", activation=\"relu\"),\n",
        "        keras.layers.Conv2D(filters=256, kernel_size=(3,3), padding=\"same\", activation=\"relu\"),\n",
        "        keras.layers.Conv2D(filters=256, kernel_size=(3,3), padding=\"same\", activation=\"relu\"),\n",
        "        # Camanda Polling - valor máximo\n",
        "        keras.layers.MaxPool2D(pool_size=(2,2),strides=(2,2)),\n",
        "\n",
        "        # Bloco 4\n",
        "\n",
        "        # Camandas Convolucionais\n",
        "        keras.layers.Conv2D(filters=512, kernel_size=(3,3), padding=\"same\", activation=\"relu\"),\n",
        "        keras.layers.Conv2D(filters=512, kernel_size=(3,3), padding=\"same\", activation=\"relu\"),\n",
        "        keras.layers.Conv2D(filters=512, kernel_size=(3,3), padding=\"same\", activation=\"relu\"),\n",
        "        # Camanda Polling - valor máximo\n",
        "        keras.layers.MaxPool2D(pool_size=(2,2),strides=(2,2)),\n",
        "\n",
        "        # Bloco 5\n",
        "\n",
        "        # Camandas Convolucionais\n",
        "        keras.layers.Conv2D(filters=512, kernel_size=(3,3), padding=\"same\", activation=\"relu\"),\n",
        "        keras.layers.Conv2D(filters=512, kernel_size=(3,3), padding=\"same\", activation=\"relu\"),\n",
        "        keras.layers.Conv2D(filters=512, kernel_size=(3,3), padding=\"same\", activation=\"relu\"),\n",
        "        # Camanda Polling - valor máximo\n",
        "        keras.layers.MaxPool2D(pool_size=(2,2),strides=(2,2)),\n",
        "\n",
        "        # Camada Densamente conectada\n",
        "        keras.layers.Flatten(),\n",
        "        keras.layers.Dense(4096,activation=\"relu\"),\n",
        "        keras.layers.Dense(4096,activation=\"relu\"),\n",
        "        # Função Softmax\n",
        "        keras.layers.Dense(2, activation=\"softmax\")\n",
        "    ])\n",
        "\n",
        "  model.compile(optimizer='adam', loss='binary_focal_crossentropy', metrics=['accuracy'])\n",
        "  return model"
      ]
    },
    {
      "cell_type": "markdown",
      "metadata": {
        "id": "uWE9hWs1J4vU"
      },
      "source": [
        "# 5 - Normalizando as imagens e separando para test e train\n",
        "\n",
        "Para isso usaremos o **ImageDataGenerator** e o **flow_from_directory**"
      ]
    },
    {
      "cell_type": "code",
      "execution_count": 5,
      "metadata": {
        "colab": {
          "base_uri": "https://localhost:8080/"
        },
        "id": "JUgXJbSLKLPL",
        "outputId": "5ca34526-939b-4347-bd83-ed0b2352e9a1"
      },
      "outputs": [
        {
          "output_type": "stream",
          "name": "stdout",
          "text": [
            "Found 598 images belonging to 2 classes.\n",
            "Found 254 images belonging to 2 classes.\n"
          ]
        }
      ],
      "source": [
        "if(modelo == 1):\n",
        "  target_size = (28,28)\n",
        "  name_model = \"LeNet\"\n",
        "elif(modelo == 2):\n",
        "  target_size = (227,227)\n",
        "  name_model = \"AlexNet\"\n",
        "elif(modelo == 3):\n",
        "  target_size = (224,224)\n",
        "  name_model = \"VGG\"\n",
        "\n",
        "model = model_CNN(modelo)\n",
        "\n",
        "# Normalizar as imagens e dividindo 30% para teste e 70% para traino\n",
        "datagen = ImageDataGenerator(rescale=1.0 / 255.0,\n",
        "                                  validation_split=0.30)\n",
        "\n",
        "# Criando Test e train\n",
        "data_train = datagen.flow_from_directory(input_database,\n",
        "                                        color_mode = \"grayscale\",\n",
        "                                        batch_size = 32,\n",
        "                                        target_size = target_size,\n",
        "                                        subset=\"training\"\n",
        "                                        )\n",
        "\n",
        "data_test = datagen.flow_from_directory(input_database,\n",
        "                                      color_mode = \"grayscale\",\n",
        "                                      batch_size = 32,\n",
        "                                      target_size = target_size,\n",
        "                                      subset='validation'\n",
        "                                      )\n"
      ]
    },
    {
      "cell_type": "markdown",
      "metadata": {
        "id": "uI5zMO-9tgz4"
      },
      "source": [
        "# 6 - Treinar e Fitting para o modelo\n",
        "\n",
        "### Compile\n",
        "\n",
        "*   Optimizer - Otimizador (Adam)\n",
        "\n",
        "*   Loss - Função de perda - calc. erro da precisão e valor real (binary_focal_crossentropy)\n",
        "\n",
        "*   Metrics - accuracy (precisão)\n",
        "\n",
        "### Fit\n",
        "\n",
        "*   data_train (dados de treino)\n",
        "\n",
        "*   epochs - quantidade de iterações com os dados oferecidos\n",
        "\n",
        "*   verbose - Modo de verbosidade (1 - barra de progresso/Padrão)\n",
        "\n",
        "*   steps_per_epoch - Nº Total de amostras\n",
        "\n",
        "*   Validation_steps - tamanho dos dados conhecidos da amostra do treinamento\n",
        "\n",
        "*  Validation_data -  Dados que sofreram avaliação da perda\n",
        "\n",
        "\n",
        "\n"
      ]
    },
    {
      "cell_type": "code",
      "execution_count": 6,
      "metadata": {
        "colab": {
          "base_uri": "https://localhost:8080/"
        },
        "id": "AyUUmfUwfgNi",
        "outputId": "467a24df-4f27-4176-ef49-da11485cd047"
      },
      "outputs": [
        {
          "output_type": "stream",
          "name": "stdout",
          "text": [
            "Epoch 1/20\n",
            "19/19 [==============================] - 223s 12s/step - loss: 0.1736 - accuracy: 0.5819 - val_loss: 0.1671 - val_accuracy: 0.6063\n",
            "Epoch 2/20\n",
            "19/19 [==============================] - 82s 4s/step - loss: 0.1625 - accuracy: 0.6204 - val_loss: 0.1678 - val_accuracy: 0.5906\n",
            "Epoch 3/20\n",
            "19/19 [==============================] - 85s 5s/step - loss: 0.1559 - accuracy: 0.6421 - val_loss: 0.1754 - val_accuracy: 0.5984\n",
            "Epoch 4/20\n",
            "19/19 [==============================] - 82s 4s/step - loss: 0.1583 - accuracy: 0.6388 - val_loss: 0.1687 - val_accuracy: 0.6024\n",
            "Epoch 5/20\n",
            "19/19 [==============================] - 82s 4s/step - loss: 0.1551 - accuracy: 0.6689 - val_loss: 0.1657 - val_accuracy: 0.6181\n",
            "Epoch 6/20\n",
            "19/19 [==============================] - 83s 4s/step - loss: 0.1533 - accuracy: 0.6689 - val_loss: 0.1624 - val_accuracy: 0.6457\n",
            "Epoch 7/20\n",
            "19/19 [==============================] - 86s 5s/step - loss: 0.1528 - accuracy: 0.6672 - val_loss: 0.1627 - val_accuracy: 0.6063\n",
            "Epoch 8/20\n",
            "19/19 [==============================] - 82s 4s/step - loss: 0.1523 - accuracy: 0.6806 - val_loss: 0.1609 - val_accuracy: 0.6535\n",
            "Epoch 9/20\n",
            "19/19 [==============================] - 84s 4s/step - loss: 0.1490 - accuracy: 0.6856 - val_loss: 0.1625 - val_accuracy: 0.6299\n",
            "Epoch 10/20\n",
            "19/19 [==============================] - 82s 4s/step - loss: 0.1493 - accuracy: 0.6906 - val_loss: 0.1591 - val_accuracy: 0.6535\n",
            "Epoch 11/20\n",
            "19/19 [==============================] - 82s 4s/step - loss: 0.1485 - accuracy: 0.6890 - val_loss: 0.1589 - val_accuracy: 0.6299\n",
            "Epoch 12/20\n",
            "19/19 [==============================] - 87s 5s/step - loss: 0.1473 - accuracy: 0.6856 - val_loss: 0.1572 - val_accuracy: 0.6496\n",
            "Epoch 13/20\n",
            "19/19 [==============================] - 84s 4s/step - loss: 0.1484 - accuracy: 0.6856 - val_loss: 0.1566 - val_accuracy: 0.6535\n",
            "Epoch 14/20\n",
            "19/19 [==============================] - 85s 5s/step - loss: 0.1444 - accuracy: 0.6940 - val_loss: 0.1568 - val_accuracy: 0.6496\n",
            "Epoch 15/20\n",
            "19/19 [==============================] - 85s 5s/step - loss: 0.1446 - accuracy: 0.7157 - val_loss: 0.1580 - val_accuracy: 0.6378\n",
            "Epoch 16/20\n",
            "19/19 [==============================] - 84s 5s/step - loss: 0.1412 - accuracy: 0.7040 - val_loss: 0.1597 - val_accuracy: 0.6457\n",
            "Epoch 17/20\n",
            "19/19 [==============================] - 84s 4s/step - loss: 0.1443 - accuracy: 0.7023 - val_loss: 0.1618 - val_accuracy: 0.6260\n",
            "Epoch 18/20\n",
            "19/19 [==============================] - 87s 5s/step - loss: 0.1449 - accuracy: 0.7074 - val_loss: 0.1543 - val_accuracy: 0.6614\n",
            "Epoch 19/20\n",
            "19/19 [==============================] - 84s 5s/step - loss: 0.1406 - accuracy: 0.7124 - val_loss: 0.1601 - val_accuracy: 0.6654\n",
            "Epoch 20/20\n",
            "19/19 [==============================] - 87s 5s/step - loss: 0.1373 - accuracy: 0.7207 - val_loss: 0.1563 - val_accuracy: 0.6693\n"
          ]
        },
        {
          "output_type": "execute_result",
          "data": {
            "text/plain": [
              "<keras.callbacks.History at 0x7f83f8d95400>"
            ]
          },
          "metadata": {},
          "execution_count": 6
        }
      ],
      "source": [
        "# Training the model\n",
        "model.fit(data_train, steps_per_epoch=len(data_train), validation_data=data_test,validation_steps=len(data_test), epochs=20, verbose= 1)"
      ]
    },
    {
      "cell_type": "markdown",
      "metadata": {
        "id": "kHEAs1JhxyBf"
      },
      "source": [
        "# 7 - Previsão\n",
        "\n",
        "### Utilizando o evaluate para realizar a precisão\n",
        "\n",
        "Primeiro valor está relacionado ao erro ao realizar a comparação\n",
        "Segundo valor está relacionado a accuracy, ou seja, a precisão de acerto"
      ]
    },
    {
      "cell_type": "code",
      "execution_count": 7,
      "metadata": {
        "id": "NF5EByyCx0Wx",
        "colab": {
          "base_uri": "https://localhost:8080/"
        },
        "outputId": "d4ed174b-35c1-4138-ce6b-976931b95e71"
      },
      "outputs": [
        {
          "output_type": "stream",
          "name": "stdout",
          "text": [
            "8/8 [==============================] - 27s 3s/step - loss: 0.1563 - accuracy: 0.6693\n"
          ]
        },
        {
          "output_type": "execute_result",
          "data": {
            "text/plain": [
              "[0.15627247095108032, 0.6692913174629211]"
            ]
          },
          "metadata": {},
          "execution_count": 7
        }
      ],
      "source": [
        "model.evaluate(data_test,steps=len(data_test), verbose = 1)"
      ]
    },
    {
      "cell_type": "markdown",
      "source": [
        "# 8 - Confusion Matrix"
      ],
      "metadata": {
        "id": "RzKoneZsEBYJ"
      }
    },
    {
      "cell_type": "code",
      "source": [
        "predict_model = model.predict(data_test, steps=(len(data_test)))\n",
        "y_true = data_test.classes\n",
        "y_pred = predict_model.argmax(axis=-1)\n",
        "\n",
        "cm = confusion_matrix(y_true, y_pred)\n",
        "disp = ConfusionMatrixDisplay(confusion_matrix=cm, display_labels=np.unique(y_true))\n",
        "\n",
        "disp.plot(cmap=plt.cm.RdPu) #Color\n",
        "plt.title(\"Confusion Matrix - model \"+ name_model)\n",
        "plt.show()\n"
      ],
      "metadata": {
        "id": "uYMrqHbetJdJ",
        "colab": {
          "base_uri": "https://localhost:8080/",
          "height": 312
        },
        "outputId": "67864130-af01-4c1a-950a-070e204e1234"
      },
      "execution_count": 8,
      "outputs": [
        {
          "output_type": "stream",
          "name": "stdout",
          "text": [
            "8/8 [==============================] - 26s 3s/step\n"
          ]
        },
        {
          "output_type": "display_data",
          "data": {
            "text/plain": [
              "<Figure size 432x288 with 2 Axes>"
            ],
            "image/png": "[encoded data removed]"
          },
          "metadata": {
            "needs_background": "light"
          }
        }
      ]
    }
  ],
  "metadata": {
    "colab": {
      "provenance": []
    },
    "kernelspec": {
      "display_name": "Python 3",
      "name": "python3"
    },
    "language_info": {
      "name": "python"
    }
  },
  "nbformat": 4,
  "nbformat_minor": 0
}